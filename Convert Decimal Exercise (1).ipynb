{
 "cells": [
  {
   "cell_type": "code",
   "execution_count": null,
   "id": "b78a468f",
   "metadata": {},
   "outputs": [],
   "source": [
    "# Function to convert decimal number\n",
    "# to binary using recursion\n",
    "def decimalToBinary(num):\n",
    "     \n",
    "    if num >= 1:\n",
    "        decimalToBinary(num // 2)\n",
    "    print(num % 2, end = '')"
   ]
  },
  {
   "cell_type": "code",
   "execution_count": 4,
   "id": "49a127ae",
   "metadata": {},
   "outputs": [],
   "source": [
    "# Conversion table of remainders to\n",
    "# hexadecimal equivalent\n",
    "conversion_table = {0: '0', 1: '1', 2: '2', 3: '3', 4: '4',\n",
    "                    5: '5', 6: '6', 7: '7',\n",
    "                    8: '8', 9: '9', 10: 'A', 11: 'B', 12: 'C',\n",
    "                    13: 'D', 14: 'E', 15: 'F'}\n",
    "  \n",
    "  \n",
    "# function which converts decimal value\n",
    "# to hexadecimal value\n",
    "def decimalToHexadecimal(decimal):\n",
    "    hexadecimal = ''\n",
    "    while(decimal > 0):\n",
    "        remainder = decimal % 16\n",
    "        hexadecimal = conversion_table[remainder] + hexadecimal\n",
    "        decimal = decimal // 16\n",
    "  \n",
    "    return hexadecimal"
   ]
  },
  {
   "cell_type": "code",
   "execution_count": null,
   "id": "ec72c302",
   "metadata": {},
   "outputs": [],
   "source": [
    "# function which converts decimal value\n",
    "# to octal value using recursion\n",
    "def decimalToOctal(decimal):\n",
    "    if(decimal > 0):\n",
    "        decimalToOctal((int)(decimal/8))\n",
    "        print(decimal%8, end='')"
   ]
  }
 ],
 "metadata": {
  "kernelspec": {
   "display_name": "Python 3",
   "language": "python",
   "name": "python3"
  },
  "language_info": {
   "codemirror_mode": {
    "name": "ipython",
    "version": 3
   },
   "file_extension": ".py",
   "mimetype": "text/x-python",
   "name": "python",
   "nbconvert_exporter": "python",
   "pygments_lexer": "ipython3",
   "version": "3.8.8"
  }
 },
 "nbformat": 4,
 "nbformat_minor": 5
}
