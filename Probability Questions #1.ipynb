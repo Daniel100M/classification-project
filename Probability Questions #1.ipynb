{
 "cells": [
  {
   "cell_type": "markdown",
   "id": "652bf0d9",
   "metadata": {},
   "source": [
    "## Probability Questions"
   ]
  },
  {
   "cell_type": "markdown",
   "id": "45e4c171",
   "metadata": {},
   "source": [
    "### 1. Identical Twins\n",
    "#### a."
   ]
  },
  {
   "cell_type": "code",
   "execution_count": null,
   "id": "09f36df2",
   "metadata": {},
   "outputs": [],
   "source": [
    "According to the bayes theorm:\n",
    "    P(A/B) = ( P(B/A) * P(A) )/( P(B) )\n",
    "\n",
    "Let A = two siblings are identical twins.\n",
    "Let B = two siblings are male twins.\n",
    "\n",
    "We must calculate P(A/B).\n",
    "\n",
    "P(B/A) = 0.5 # Because, given that they are identical twins, the probability of them being male twins is 0.5 (Becuase they could either be both male or both female)\n",
    "P(A) = 1/300 # It is given.\n",
    "\n",
    "Let C = two siblings are identical male twins.\n",
    "Let D = two siblings are male twins, not identical.\n",
    "Thus:\n",
    "    P(B) = P(C) + P(D) = P(B/A) * P(A) + P(D) = 11/3000\n",
    "    # P(D) = 1/500 = 0.5 * 0.5 * (1/125)\n",
    "    # The probability that the siblings are both males and twins.\n",
    "    \n",
    "Finally: P(A/B) = 5/11\n",
    "    # After inserting the values calculated above."
   ]
  },
  {
   "cell_type": "markdown",
   "id": "ae1b032f",
   "metadata": {},
   "source": [
    "#### b."
   ]
  },
  {
   "cell_type": "code",
   "execution_count": null,
   "id": "7b447eec",
   "metadata": {},
   "outputs": [],
   "source": [
    "According to the bayes theorm:\n",
    "    P(A/B) = ( P(B/A) * P(A) )/( P(B) )\n",
    "\n",
    "Let A = chosen bowl 1\n",
    "Let B = chosen chocolate cookie\n",
    "\n",
    "We must calculate P(A/B).\n",
    "\n",
    "P(A) = 0.5\n",
    "P(B) = 0.5 * 0.75 + 0.5 * 0.5 = 0.625\n",
    "P(B/A) = 0.75\n",
    "\n",
    "Thus, P(A/B) = 0.6 "
   ]
  },
  {
   "cell_type": "markdown",
   "id": "858ba1bb",
   "metadata": {},
   "source": [
    "### 2. M&M Question"
   ]
  },
  {
   "cell_type": "code",
   "execution_count": null,
   "id": "df6ed38a",
   "metadata": {},
   "outputs": [],
   "source": [
    "Let 'A' be the probability of selecting the package from 1994\n",
    "Let 'B' be the probability of selecting a Yellow piece.\n",
    "The probability of the Yellow piece being selected out of the 1994 package is: P(A/B).\n",
    "In order to calculate this probability we shall use Bayes Theorm:\n",
    "P(A/B) = ( P(B/A) * P(A) )/( P(B) )\n",
    "As we know, packages before 1995 had 20% Yellow pieces.\n",
    "Thus, P(B/A) = 0.2\n",
    "There are only two types of packages, those before 1995, and those from 1995 and on.\n",
    "Thus, P(A) = 0.5\n",
    "The probability of selecting a Yellow piece would be calculated by\n",
    "adding The probability of selecting a Yellow piece from 1994, and The probability of selecting a Yellow piece from 1996.\n",
    "As we know, packages since 1995 had 14% Yellow pieces.\n",
    "Thus, P(B) = 0.5 * 0.2 + 0.5 * 0.14 = 0.17\n",
    "And finally, P(A/B) = (0.2*0.5)/(0.17) = 0.59"
   ]
  },
  {
   "cell_type": "code",
   "execution_count": null,
   "id": "b9417cb0",
   "metadata": {},
   "outputs": [],
   "source": []
  },
  {
   "cell_type": "code",
   "execution_count": null,
   "id": "034adee5",
   "metadata": {},
   "outputs": [],
   "source": []
  },
  {
   "cell_type": "markdown",
   "id": "925b9b8d",
   "metadata": {},
   "source": [
    "### 4. Identical Twins Question"
   ]
  },
  {
   "cell_type": "code",
   "execution_count": null,
   "id": "1cd5dac1",
   "metadata": {},
   "outputs": [],
   "source": [
    "Let 'A' be the probability of the birth of Identical Twins.\n",
    "Let 'B' be the probability of the birth of twins.\n",
    "We must calculate: P(A|B)\n",
    "According to Bayes Theorem: P(A/B) = ( P(B/A) * P(A) )/( P(B) )\n",
    "P(B/A) = 1 (Because given that the birth was of Identical twins, we know for sure that the birth was of twins)\n",
    "P(A) = 1/300 \n",
    "P(B) = 1/300 + 1/125 = 17/1500 (Because the probability of the birth being of twins, would be calculated by summing the probability that the birth was of Identical twins, and the probability that the birth was of twins that are not Identical)\n",
    "Now, P(A/B) = (1*(1/300))/(17/1500) = 5/17\n",
    "\n",
    "Let 'C' be the probability of Charles sibling being an Identical twin of his, given that he is a twin of his.\n",
    "Let 'D' be the probability of Charles sibling being a twin of his.\n",
    "According to Bayes Theorem: P(C/D) = ( P(D/C) * P(C) )/( P(D) )\n",
    "P(C) = P(A/B) = 5/17\n",
    "P(D/C) = 1 (Because given that Charles sibling is an identical twin of his, we know for sure that his sibling is his twin)\n",
    "P(D) = 5/17 + 12/17 * 1/2 (In order to calculate the probability of Charles sibling being a twin of his, we must add together two probabilities: 1. the probability that charles sibling is an identical twin of his.  2. the probability that charles sibling is not an identical twin of his, however he is a male twin brother. And the probability of that is 0.5 because he could either be male or female)\n",
    "And finally, P(C/D) = ( 1 * 5/17 )/(5/17 + 12/17 * 1/2) = 5/11"
   ]
  },
  {
   "cell_type": "markdown",
   "id": "8d3db6c8",
   "metadata": {},
   "source": [
    "### 5. Distribution Question"
   ]
  },
  {
   "cell_type": "code",
   "execution_count": null,
   "id": "4685c0a8",
   "metadata": {},
   "outputs": [],
   "source": [
    "Question 5:\n",
    "It can be seen from the graph that the distribution is continuous (not discrete), meaning that X can have any value between 5 and 0.\n",
    "Therefore the probability of getting a certain value is 0 (for example the probability that X = 2 is 0) and\n",
    "it is possible to calculate the probability that the value of X will be between a range of values(for example 4> x> 3), this probability will be positive.\n",
    "We can notice that P (X> 3) = P (X≥3) this is because the probability that X = 3 is 0.\n",
    "And it is worth calculating P (X≥3). We will need to calculate the area below the graph in x≥3.\n",
    "This area is the same as the area below the graph at 5≥x≥3, this is because within x> 5 the graph no longer exists and therefore there is no area below the graph.\n",
    "The area under the graph with a diameter of 5≥x≥3 consists of one triangle whose height is 0.4 and its base is 2 units and therefore the area is:\n",
    "0.4 = (0.4⋅2) / 2\n",
    "Hence P (X> 3) = P (X≥3) = 0.4"
   ]
  },
  {
   "cell_type": "markdown",
   "id": "2b48b946",
   "metadata": {},
   "source": [
    "### 2.\tSharon has challenged Alex to a round of Marker Mixup. Marker Mixup is a game where there is a bag of 5 red markers numbered 1 through 5, and another bag with 5 green markers numbered 6 through 10. Alex will grab 1 marker from each bag, and if the 2 markers add up to more than 12, he will win 5 dollars, If the sum is exactly 12, he will break even, and If the sum is less than 12, he will lose 6 dollars. What is Alex's expected value of playing Marker Mixup? \n",
    "\n",
    "\n"
   ]
  },
  {
   "cell_type": "code",
   "execution_count": null,
   "id": "52e4ba26",
   "metadata": {},
   "outputs": [],
   "source": [
    "Lets break down all the possibilities of outcomes:\n",
    "\n",
    "1. In which instances do the two markers add up to more than 12?\n",
    "\n",
    "    (3,10) , (4,9) , (4,10) , (5,8) , (5,9) , (5,10)\n",
    "\n",
    "2. In which instances do the two markers add up to exactly 12?\n",
    "\n",
    "    (2,10) , (3,9) , (4,8) , (5,7)\n",
    "    \n",
    "3. In which instances do the two markers add up to less than 12?\n",
    "\n",
    "    (1,6) , (1,7) , (1,8) , (1,9) , (1,10)\n",
    "    \n",
    "    (2,6) , (2,7) , (2,8) , (2,9)\n",
    "    \n",
    "    (3,6) , (3,7) , (3,8)\n",
    "    \n",
    "    (4,6) , (4,7)\n",
    "    \n",
    "    (5,6)\n",
    "    \n",
    "- - - - -\n",
    "\n",
    "In total there are 25 possibilities.\n",
    "\n",
    "In 6 of them, the markers add up to more than 12. Thus, the probability of this occurance is: 0.24\n",
    "\n",
    "In 4 of them, the markers add up to exactly 12. Thus, the probability of this occurance is: 0.16\n",
    "\n",
    "In 15 of them, the markers add up to less than 12. Thus, the probability of this occurance is: 0.6\n",
    "\n",
    "In conclusion, it is most likely that Alex shall lose 6 dollars."
   ]
  },
  {
   "cell_type": "code",
   "execution_count": null,
   "id": "7873a44a",
   "metadata": {},
   "outputs": [],
   "source": []
  },
  {
   "cell_type": "code",
   "execution_count": null,
   "id": "4dcb871a",
   "metadata": {},
   "outputs": [],
   "source": []
  },
  {
   "cell_type": "markdown",
   "id": "3b5ca1c5",
   "metadata": {},
   "source": [
    "### 4. Different dealers may sell the same car for different prices. The sale prices for a particular car are normally distributed with a mean and standard deviation of 26,000 dollars and 2,000 dollars, respectively. Suppose we select one of these cars at random. Let X = the sale price (in thousands of dollars) for the selected car. Find P(26<X<30)."
   ]
  },
  {
   "cell_type": "code",
   "execution_count": null,
   "id": "c125f1b5",
   "metadata": {},
   "outputs": [],
   "source": [
    "Probabilities are used to determine the chances of events\n",
    "\n",
    "The probability that P(26<x<30) is 0.48\n",
    "\n",
    "The given parameters are:\n",
    "\n",
    "m = 26 (mean value)\n",
    "s = 2  (standard deviation value)\n",
    "\n",
    "The probability P(26<X<30) is represented as:\n",
    "\n",
    "P(26<X<30) = P(z1 < z < z2)\n",
    "\n",
    "Where:\n",
    "\n",
    "z = (X-m)/s\n",
    "\n",
    "So, we have:\n",
    "\n",
    "P(26<X<30) = P( (26-26)/2 < z < (30-26)/2 )\n",
    "\n",
    "Simplify\n",
    "\n",
    "P(26<X<30) = P( (0/2) < z < (4/2) )\n",
    "\n",
    "Further, simplify\n",
    "\n",
    "P(26<X<30) = P(0 < z < 2)\n",
    "\n",
    "Rewrite the above equation as:\n",
    "\n",
    "P(26<X<30) = P(z<2) - P(z<0)\n",
    "\n",
    "For z-score of probabilities, we have:\n",
    "\n",
    "P(26<X<30) = 0.97725 - 0.5\n",
    "\n",
    "Simplify\n",
    "\n",
    "P(26<X<30) = 0.47725\n",
    "\n",
    "Approximate\n",
    "\n",
    "P(26<X<30) = 0.48\n",
    "\n",
    "Hence, the value of the probability that P(26<x<30) is 0.48"
   ]
  },
  {
   "cell_type": "code",
   "execution_count": null,
   "id": "7c1f3c16",
   "metadata": {},
   "outputs": [],
   "source": []
  },
  {
   "cell_type": "code",
   "execution_count": null,
   "id": "ac974e72",
   "metadata": {},
   "outputs": [],
   "source": []
  },
  {
   "cell_type": "markdown",
   "id": "38b5e811",
   "metadata": {},
   "source": [
    "### 6.\tA company has 500 employees, and 60% of them have children. Suppose that we randomly select 4 of these employees. What is the probability that exactly 3 of the 4 employees selected have children?\n",
    "\n"
   ]
  },
  {
   "cell_type": "code",
   "execution_count": null,
   "id": "0e3c5731",
   "metadata": {},
   "outputs": [],
   "source": [
    "We will use the Binomial distribution equation to solve this problem.\n",
    "There are 500 employees, 60% of them have children.\n",
    "Thus, the probability of selecting an employee with children is: 3/5.\n",
    "Let 'k' be the number of times we have successfuly selected an employee with children.\n",
    "Thus, k = 3.\n",
    "Let 'n' be the number of trials (number of employees selected).\n",
    "Thus, n = 4.\n",
    "Let 'p' be the probability of success.\n",
    "Thus, p = 3/5.\n",
    "\n",
    "The equation: (n above k) * (p to the power of k) * ( (1-p) to the power of (n-k) )\n",
    "Thus, P(3) = (4 above 3) * ( 3/5 to the power of 3) * ( 2/5 to the power of 1).\n",
    "P(3) = 0.3456 is the probability of selecting 4 employees whilst 3 of them have children."
   ]
  },
  {
   "cell_type": "code",
   "execution_count": null,
   "id": "ef4c95e7",
   "metadata": {},
   "outputs": [],
   "source": []
  },
  {
   "cell_type": "code",
   "execution_count": null,
   "id": "2a2c7a4e",
   "metadata": {},
   "outputs": [],
   "source": []
  },
  {
   "cell_type": "code",
   "execution_count": null,
   "id": "94b859d7",
   "metadata": {},
   "outputs": [],
   "source": []
  }
 ],
 "metadata": {
  "kernelspec": {
   "display_name": "Python 3",
   "language": "python",
   "name": "python3"
  },
  "language_info": {
   "codemirror_mode": {
    "name": "ipython",
    "version": 3
   },
   "file_extension": ".py",
   "mimetype": "text/x-python",
   "name": "python",
   "nbconvert_exporter": "python",
   "pygments_lexer": "ipython3",
   "version": "3.8.8"
  }
 },
 "nbformat": 4,
 "nbformat_minor": 5
}
